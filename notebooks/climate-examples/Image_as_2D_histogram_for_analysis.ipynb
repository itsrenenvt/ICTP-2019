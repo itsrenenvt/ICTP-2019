{
 "cells": [
  {
   "cell_type": "code",
   "execution_count": null,
   "metadata": {
    "collapsed": true
   },
   "outputs": [],
   "source": [
    "<CENTER>\n",
    "    <img src=\"https://www.opportunitiesforafricans.com/wp-content/uploads/2016/11/ictp-696x222.png\" alt=\"Satellite image of three hurricanes\" width=\"40%\">\n",
    "</CENTER>"
   ]
  },
  {
   "cell_type": "markdown",
   "metadata": {},
   "source": [
    "## Simple notebook to convert and analyse a picture using 2D histograms\n",
    "**arturos@cern.ch**"
   ]
  },
  {
   "cell_type": "markdown",
   "metadata": {},
   "source": [
    "##### Source of the data\n",
    "\n",
    "###### Satellite pictures used in the example\n",
    "* https://www.ncdc.noaa.gov/gibbs/availability/2018-01-01"
   ]
  },
  {
   "cell_type": "markdown",
   "metadata": {},
   "source": [
    "We will work with one IR satellite picture"
   ]
  },
  {
   "cell_type": "code",
   "execution_count": 1,
   "metadata": {
    "collapsed": false
   },
   "outputs": [],
   "source": [
    "TASImage image(\"8885308-3x2-940x627.jpg\");\n",
    "UInt_t yPixels = image.GetHeight();\n",
    "UInt_t xPixels = image.GetWidth();\n",
    "UInt_t *argb   = image.GetArgbArray();\n",
    "\n",
    "TH2D* h1 = new TH2D(\"h1\",\"Satellite image of three hurricanes 1\",xPixels,-1,1,yPixels,-1,1);\n",
    "\n",
    "TH2D* h2 = new TH2D(\"h2\",\"Satellite image of three hurricanes 2\",xPixels,-1,1,yPixels,-1,1);"
   ]
  },
  {
   "cell_type": "code",
   "execution_count": null,
   "metadata": {
    "collapsed": true
   },
   "outputs": [],
   "source": [
    "Let's extract the pixel information and save it in a 2D histogram."
   ]
  },
  {
   "cell_type": "code",
   "execution_count": null,
   "metadata": {
    "collapsed": false
   },
   "outputs": [],
   "source": [
    "float entriesInPixel= 4288000000;\n",
    "\n",
    "for (int row=0; row<xPixels; ++row)\n",
    "{\n",
    "    for (int col=0; col<yPixels; ++col)\n",
    "    {\n",
    "        int index = col*xPixels+row;\n",
    "        \n",
    "        float indexvalue = float(argb[index]);\n",
    "        float greyScale = float(argb[index]&0xff)/256;\n",
    "        \n",
    "        if(indexvalue > entriesInPixel)\n",
    "        {\n",
    "            h1->SetBinContent(row+1,yPixels-col,indexvalue);\n",
    "        }\n",
    "        h2->SetBinContent(row+1,yPixels-col,greyScale);\n",
    "    }\n",
    "}"
   ]
  },
  {
   "cell_type": "markdown",
   "metadata": {},
   "source": [
    "Draw the 2D histogram"
   ]
  },
  {
   "cell_type": "code",
   "execution_count": null,
   "metadata": {
    "collapsed": false
   },
   "outputs": [],
   "source": [
    "//gStyle->SetPalette(53);\n",
    "\n",
    "h2->Divide(h1);\n",
    "\n",
    "h2->Draw(\"colz\");"
   ]
  },
  {
   "cell_type": "code",
   "execution_count": null,
   "metadata": {
    "collapsed": false
   },
   "outputs": [],
   "source": [
    "c1->Draw()"
   ]
  },
  {
   "cell_type": "markdown",
   "metadata": {},
   "source": [
    "### the original image is\n",
    "<img src=\"8885308-3x2-940x627.jpg\" alt=\"Satellite image of three hurricanes\" width=\"70%\"> "
   ]
  },
  {
   "cell_type": "markdown",
   "metadata": {
    "collapsed": true
   },
   "source": [
    "done"
   ]
  }
 ],
 "metadata": {
  "kernelspec": {
   "display_name": "ROOT Prompt",
   "language": "c++",
   "name": "root"
  },
  "language_info": {
   "codemirror_mode": {
    "name": "ipython",
    "version": 2
   },
   "file_extension": ".py",
   "mimetype": "text/x-python",
   "name": "python",
   "nbconvert_exporter": "python",
   "pygments_lexer": "ipython2",
   "version": "2.7.9"
  }
 },
 "nbformat": 4,
 "nbformat_minor": 1
}
